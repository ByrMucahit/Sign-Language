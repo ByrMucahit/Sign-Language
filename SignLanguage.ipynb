{
 "cells": [
  {
   "cell_type": "markdown",
   "metadata": {},
   "source": [
    "# Import The necessary Libraries"
   ]
  },
  {
   "cell_type": "code",
   "execution_count": 3,
   "metadata": {},
   "outputs": [],
   "source": [
    "from keras.preprocessing.image import ImageDataGenerator\n",
    "from keras.preprocessing import image\n",
    "from keras.applications import imagenet_utils, vgg16\n",
    "from keras.optimizers import Adam, SGD\n",
    "from keras.metrics import categorical_crossentropy\n",
    "from keras.layers import Dense, Flatten, Dropout, BatchNormalization\n",
    "from keras.models import Model\n",
    "from sklearn.metrics import confusion_matrix\n",
    "import itertools\n",
    "import matplotlib.pyplot as plt\n",
    "import os\n",
    "import PIL\n",
    "from PIL import Image\n",
    "from shutil import copyfile\n",
    "import math\n",
    "import random\n",
    "%matplotlib inline"
   ]
  },
  {
   "cell_type": "code",
   "execution_count": 9,
   "metadata": {},
   "outputs": [
    {
     "data": {
      "text/plain": [
       "'C:\\\\Users\\\\Mucahit BAYAR\\\\Document\\\\Deep Learning\\\\Transfer_Learning\\\\Sign Language'"
      ]
     },
     "execution_count": 9,
     "metadata": {},
     "output_type": "execute_result"
    }
   ],
   "source": [
    "os.getcwd()"
   ]
  },
  {
   "cell_type": "markdown",
   "metadata": {},
   "source": [
    "# Data Preprocessing"
   ]
  },
  {
   "cell_type": "markdown",
   "metadata": {},
   "source": [
    "### We have Raw data Firstly, We dont'need to resize because of All images have same size but then Dividing into train, test, validation."
   ]
  },
  {
   "cell_type": "code",
   "execution_count": 37,
   "metadata": {},
   "outputs": [],
   "source": [
    "base_dir = r\"Dataset/Dataset\"\n",
    "os.listdir(base_dir)\n",
    "\n",
    "for file in os.listdir(base_dir):\n",
    "    data_img = base_dir+\"/\"+file\n",
    "    #img = Image.open(data_img)\n",
    "    #print(img)"
   ]
  },
  {
   "cell_type": "markdown",
   "metadata": {},
   "source": [
    "### Dividing "
   ]
  },
  {
   "cell_type": "code",
   "execution_count": 38,
   "metadata": {},
   "outputs": [
    {
     "name": "stdout",
     "output_type": "stream",
     "text": [
      "0 ---> 205\n",
      "1 ---> 206\n",
      "2 ---> 206\n",
      "3 ---> 206\n",
      "4 ---> 207\n",
      "5 ---> 207\n",
      "6 ---> 207\n",
      "7 ---> 206\n",
      "8 ---> 208\n",
      "9 ---> 204\n"
     ]
    }
   ],
   "source": [
    "for i in range(0,10):\n",
    "    print(\"{} ---> {}\".format(i,len(os.listdir(base_dir+'/'+str(i)+'/')))) "
   ]
  },
  {
   "cell_type": "code",
   "execution_count": 39,
   "metadata": {},
   "outputs": [
    {
     "name": "stdout",
     "output_type": "stream",
     "text": [
      "['0', '1', '2', '3', '4', '5', '6', '7', '8', '9']\n"
     ]
    }
   ],
   "source": [
    "print(os.listdir(base_dir)) # Title Of DataSet"
   ]
  },
  {
   "cell_type": "code",
   "execution_count": 40,
   "metadata": {},
   "outputs": [
    {
     "name": "stdout",
     "output_type": "stream",
     "text": [
      "['0', '1', '2', '3', '4', '5', '6', '7', '8', '9']\n"
     ]
    }
   ],
   "source": [
    "classes = os.listdir(base_dir) # Passing Titles To Variables Named Classes\n",
    "print(classes)"
   ]
  },
  {
   "cell_type": "code",
   "execution_count": 44,
   "metadata": {},
   "outputs": [
    {
     "name": "stdout",
     "output_type": "stream",
     "text": [
      "['C:/Users/Mucahit BAYAR/Document/Deep Learning/Transfer_Learning/Sign Language/DataSet/Dataset/0', 'C:/Users/Mucahit BAYAR/Document/Deep Learning/Transfer_Learning/Sign Language/DataSet/Dataset/1', 'C:/Users/Mucahit BAYAR/Document/Deep Learning/Transfer_Learning/Sign Language/DataSet/Dataset/2', 'C:/Users/Mucahit BAYAR/Document/Deep Learning/Transfer_Learning/Sign Language/DataSet/Dataset/3', 'C:/Users/Mucahit BAYAR/Document/Deep Learning/Transfer_Learning/Sign Language/DataSet/Dataset/4', 'C:/Users/Mucahit BAYAR/Document/Deep Learning/Transfer_Learning/Sign Language/DataSet/Dataset/5', 'C:/Users/Mucahit BAYAR/Document/Deep Learning/Transfer_Learning/Sign Language/DataSet/Dataset/6', 'C:/Users/Mucahit BAYAR/Document/Deep Learning/Transfer_Learning/Sign Language/DataSet/Dataset/7', 'C:/Users/Mucahit BAYAR/Document/Deep Learning/Transfer_Learning/Sign Language/DataSet/Dataset/8', 'C:/Users/Mucahit BAYAR/Document/Deep Learning/Transfer_Learning/Sign Language/DataSet/Dataset/9']\n"
     ]
    }
   ],
   "source": [
    "source_path = [f'C:/Users/Mucahit BAYAR/Document/Deep Learning/Transfer_Learning/Sign Language/DataSet/Dataset/{a}' for a in classes] # Assigning List That Folder OF within Dataset to Array . \n",
    "print(source_path)"
   ]
  },
  {
   "cell_type": "code",
   "execution_count": 45,
   "metadata": {},
   "outputs": [
    {
     "data": {
      "text/plain": [
       "['0_dir',\n",
       " '1_dir',\n",
       " '2_dir',\n",
       " '3_dir',\n",
       " '4_dir',\n",
       " '5_dir',\n",
       " '6_dir',\n",
       " '7_dir',\n",
       " '8_dir',\n",
       " '9_dir']"
      ]
     },
     "execution_count": 45,
     "metadata": {},
     "output_type": "execute_result"
    }
   ],
   "source": [
    "classes_dir=[f'{a}_dir' for a in classes] # We got two folders such as Dog and Cat, In this snippet we have maden name of file.\n",
    "classes_dir"
   ]
  },
  {
   "cell_type": "code",
   "execution_count": 46,
   "metadata": {},
   "outputs": [
    {
     "name": "stdout",
     "output_type": "stream",
     "text": [
      "0_dir :  205\n",
      "1_dir :  206\n",
      "2_dir :  206\n",
      "3_dir :  206\n",
      "4_dir :  207\n",
      "5_dir :  207\n",
      "6_dir :  207\n",
      "7_dir :  206\n",
      "8_dir :  208\n",
      "9_dir :  204\n"
     ]
    }
   ],
   "source": [
    "for cl_dir, cl_path in zip(classes_dir, source_path): # Viewing length of files within DataSet\n",
    "    print(cl_dir,': ',len(os.listdir(cl_path)))"
   ]
  },
  {
   "cell_type": "code",
   "execution_count": 48,
   "metadata": {},
   "outputs": [],
   "source": [
    "# Creating-Folder\n",
    "try:\n",
    "    os.mkdir('C:/Users/Mucahit BAYAR/Document/Deep Learning/Transfer_Learning/Sign Language/DataSet/training')\n",
    "    os.mkdir('C:/Users/Mucahit BAYAR/Document/Deep Learning/Transfer_Learning/Sign Language/DataSet/validation')\n",
    "    os.mkdir('C:/Users/Mucahit BAYAR/Document/Deep Learning/Transfer_Learning/Sign Language/DataSet/testing')\n",
    "except OSError:\n",
    "    pass"
   ]
  },
  {
   "cell_type": "code",
   "execution_count": 49,
   "metadata": {},
   "outputs": [
    {
     "name": "stdout",
     "output_type": "stream",
     "text": [
      "\n",
      " ['C:/Users/Mucahit BAYAR/Document/Deep Learning/Transfer_Learning/Sign Language/DataSet/training/0', 'C:/Users/Mucahit BAYAR/Document/Deep Learning/Transfer_Learning/Sign Language/DataSet/training/1', 'C:/Users/Mucahit BAYAR/Document/Deep Learning/Transfer_Learning/Sign Language/DataSet/training/2', 'C:/Users/Mucahit BAYAR/Document/Deep Learning/Transfer_Learning/Sign Language/DataSet/training/3', 'C:/Users/Mucahit BAYAR/Document/Deep Learning/Transfer_Learning/Sign Language/DataSet/training/4', 'C:/Users/Mucahit BAYAR/Document/Deep Learning/Transfer_Learning/Sign Language/DataSet/training/5', 'C:/Users/Mucahit BAYAR/Document/Deep Learning/Transfer_Learning/Sign Language/DataSet/training/6', 'C:/Users/Mucahit BAYAR/Document/Deep Learning/Transfer_Learning/Sign Language/DataSet/training/7', 'C:/Users/Mucahit BAYAR/Document/Deep Learning/Transfer_Learning/Sign Language/DataSet/training/8', 'C:/Users/Mucahit BAYAR/Document/Deep Learning/Transfer_Learning/Sign Language/DataSet/training/9']\n",
      "\n",
      " ['C:/Users/Mucahit BAYAR/Document/Deep Learning/Transfer_Learning/Sign Language/DataSet/validation/0', 'C:/Users/Mucahit BAYAR/Document/Deep Learning/Transfer_Learning/Sign Language/DataSet/validation/1', 'C:/Users/Mucahit BAYAR/Document/Deep Learning/Transfer_Learning/Sign Language/DataSet/validation/2', 'C:/Users/Mucahit BAYAR/Document/Deep Learning/Transfer_Learning/Sign Language/DataSet/validation/3', 'C:/Users/Mucahit BAYAR/Document/Deep Learning/Transfer_Learning/Sign Language/DataSet/validation/4', 'C:/Users/Mucahit BAYAR/Document/Deep Learning/Transfer_Learning/Sign Language/DataSet/validation/5', 'C:/Users/Mucahit BAYAR/Document/Deep Learning/Transfer_Learning/Sign Language/DataSet/validation/6', 'C:/Users/Mucahit BAYAR/Document/Deep Learning/Transfer_Learning/Sign Language/DataSet/validation/7', 'C:/Users/Mucahit BAYAR/Document/Deep Learning/Transfer_Learning/Sign Language/DataSet/validation/8', 'C:/Users/Mucahit BAYAR/Document/Deep Learning/Transfer_Learning/Sign Language/DataSet/validation/9']\n",
      "\n",
      " ['C:/Users/Mucahit BAYAR/Document/Deep Learning/Transfer_Learning/Sign Language/DataSet//testing/0', 'C:/Users/Mucahit BAYAR/Document/Deep Learning/Transfer_Learning/Sign Language/DataSet//testing/1', 'C:/Users/Mucahit BAYAR/Document/Deep Learning/Transfer_Learning/Sign Language/DataSet//testing/2', 'C:/Users/Mucahit BAYAR/Document/Deep Learning/Transfer_Learning/Sign Language/DataSet//testing/3', 'C:/Users/Mucahit BAYAR/Document/Deep Learning/Transfer_Learning/Sign Language/DataSet//testing/4', 'C:/Users/Mucahit BAYAR/Document/Deep Learning/Transfer_Learning/Sign Language/DataSet//testing/5', 'C:/Users/Mucahit BAYAR/Document/Deep Learning/Transfer_Learning/Sign Language/DataSet//testing/6', 'C:/Users/Mucahit BAYAR/Document/Deep Learning/Transfer_Learning/Sign Language/DataSet//testing/7', 'C:/Users/Mucahit BAYAR/Document/Deep Learning/Transfer_Learning/Sign Language/DataSet//testing/8', 'C:/Users/Mucahit BAYAR/Document/Deep Learning/Transfer_Learning/Sign Language/DataSet//testing/9']\n"
     ]
    }
   ],
   "source": [
    "TRAINING_PATH= 'C:/Users/Mucahit BAYAR/Document/Deep Learning/Transfer_Learning/Sign Language/DataSet/training' # Path Of Training folder\n",
    "VALIDATION_PATH= 'C:/Users/Mucahit BAYAR/Document/Deep Learning/Transfer_Learning/Sign Language/DataSet/validation' # Path Of Validating Folder\n",
    "training_dir_path=[f'C:/Users/Mucahit BAYAR/Document/Deep Learning/Transfer_Learning/Sign Language/DataSet/training/{a}' for a in classes] # Opened Folders up with in training folder such as Dog And Cat.\n",
    "print('\\n',training_dir_path)\n",
    "validation_dir_path=[f'C:/Users/Mucahit BAYAR/Document/Deep Learning/Transfer_Learning/Sign Language/DataSet/validation/{a}' for a in classes] # Opened Folders up with in validating folder such as Dog And Cat.\n",
    "print('\\n',validation_dir_path)\n",
    "testing_dir_path=[f'C:/Users/Mucahit BAYAR/Document/Deep Learning/Transfer_Learning/Sign Language/DataSet//testing/{a}' for a in classes] # Opened Folders up with in testing folder such as Dog And Cat.\n",
    "print('\\n',testing_dir_path)"
   ]
  },
  {
   "cell_type": "code",
   "execution_count": 50,
   "metadata": {},
   "outputs": [],
   "source": [
    "# Train Folder\n",
    "for train_dir_path in training_dir_path:\n",
    "    try:\n",
    "        os.mkdir(train_dir_path)\n",
    "    except OSError:\n",
    "        pass"
   ]
  },
  {
   "cell_type": "code",
   "execution_count": 53,
   "metadata": {},
   "outputs": [],
   "source": [
    "# Validation Folder\n",
    "for val_dir_path in validation_dir_path:\n",
    "    try:\n",
    "        os.mkdir(val_dir_path)\n",
    "    except OSError:\n",
    "        pass"
   ]
  },
  {
   "cell_type": "code",
   "execution_count": 54,
   "metadata": {},
   "outputs": [],
   "source": [
    "# Test Folder\n",
    "for test_dir_path in testing_dir_path:\n",
    "    try:\n",
    "        os.mkdir(test_dir_path)\n",
    "    except OSError:\n",
    "        pass"
   ]
  },
  {
   "cell_type": "code",
   "execution_count": 55,
   "metadata": {},
   "outputs": [],
   "source": [
    "def split_data(SOURCE, TRAINING, VALIDATION, TESTING, SPLIT_SIZE): # We got four variables to any processing.\n",
    "    files = []\n",
    "    print('Split Data')\n",
    "    for filename in os.listdir(SOURCE):# traveling within Source folder.\n",
    "        file = SOURCE + '/'+ filename # Adding any  folder that what that has Current name.\n",
    "        if os.path.getsize(file) > 0: # If File has size is greater than zero\n",
    "            files.append(filename) # adding folder to  within the another folder\n",
    "        else: # Size equal zero\n",
    "            print(filename + \"is zero length, so ignoring.\")\n",
    "            \n",
    "    training_length = int( len(files)* SPLIT_SIZE) # Adjusting length Of training dataset\n",
    "    validation_length = int(len(files) * 0.10) # Adjusting length Of validation dataset\n",
    "    testing_length = int(len(files) - training_length - validation_length) #Adjusting length Of training dataset\n",
    "    \n",
    "    # Viewing\n",
    "    print('SOURCE: ', SOURCE, '\\n TRAINING', TRAINING, '\\n VALIDATION',VALIDATION, '\\n ',len(files))\n",
    "    print('training_lenght:', training_length)\n",
    "    print('validation_length:',validation_length)\n",
    "    print('testing_length: ',testing_length)\n",
    "    \n",
    "    #Assignin Size Processing\n",
    "    shuffled_Set = random.sample(files, len(files))\n",
    "    training_set = shuffled_Set[0:training_length]\n",
    "    validation_set = shuffled_Set[training_length:(training_length+validation_length)]\n",
    "    testing_set = shuffled_Set[:testing_length]\n",
    "    \n",
    "    print(len(training_set))\n",
    "    print(len(validation_set))\n",
    "    print(len(testing_set))\n",
    "    \n",
    "    # Set Data to Relatively Folder\n",
    "    for filename in training_set:\n",
    "        this_file = SOURCE + '/'+ filename\n",
    "        destination = TRAINING +'/'+ filename\n",
    "        copyfile(this_file, destination)\n",
    "        \n",
    "    for filename in validation_set:\n",
    "        this_file= SOURCE +'/'+ filename\n",
    "        destination = VALIDATION+'/'+filename\n",
    "        copyfile(this_file, destination)\n",
    "    for filename in testing_set:\n",
    "        this_file = source +'/'+ filename\n",
    "        destination = TESTING + '/' + filename\n",
    "        copyfile(this_file, destination)"
   ]
  },
  {
   "cell_type": "code",
   "execution_count": 58,
   "metadata": {},
   "outputs": [
    {
     "name": "stdout",
     "output_type": "stream",
     "text": [
      "Split Data\n",
      "SOURCE:  C:/Users/Mucahit BAYAR/Document/Deep Learning/Transfer_Learning/Sign Language/DataSet/Dataset/0 \n",
      " TRAINING C:/Users/Mucahit BAYAR/Document/Deep Learning/Transfer_Learning/Sign Language/DataSet/training/0 \n",
      " VALIDATION C:/Users/Mucahit BAYAR/Document/Deep Learning/Transfer_Learning/Sign Language/DataSet/validation/0 \n",
      "  205\n",
      "training_lenght: 174\n",
      "validation_length: 20\n",
      "testing_length:  11\n",
      "174\n",
      "20\n",
      "11\n",
      "Splitting \n",
      "\n",
      "Split Data\n",
      "SOURCE:  C:/Users/Mucahit BAYAR/Document/Deep Learning/Transfer_Learning/Sign Language/DataSet/Dataset/1 \n",
      " TRAINING C:/Users/Mucahit BAYAR/Document/Deep Learning/Transfer_Learning/Sign Language/DataSet/training/1 \n",
      " VALIDATION C:/Users/Mucahit BAYAR/Document/Deep Learning/Transfer_Learning/Sign Language/DataSet/validation/1 \n",
      "  206\n",
      "training_lenght: 175\n",
      "validation_length: 20\n",
      "testing_length:  11\n",
      "175\n",
      "20\n",
      "11\n",
      "Splitting \n",
      "\n",
      "Split Data\n",
      "SOURCE:  C:/Users/Mucahit BAYAR/Document/Deep Learning/Transfer_Learning/Sign Language/DataSet/Dataset/2 \n",
      " TRAINING C:/Users/Mucahit BAYAR/Document/Deep Learning/Transfer_Learning/Sign Language/DataSet/training/2 \n",
      " VALIDATION C:/Users/Mucahit BAYAR/Document/Deep Learning/Transfer_Learning/Sign Language/DataSet/validation/2 \n",
      "  206\n",
      "training_lenght: 175\n",
      "validation_length: 20\n",
      "testing_length:  11\n",
      "175\n",
      "20\n",
      "11\n",
      "Splitting \n",
      "\n",
      "Split Data\n",
      "SOURCE:  C:/Users/Mucahit BAYAR/Document/Deep Learning/Transfer_Learning/Sign Language/DataSet/Dataset/3 \n",
      " TRAINING C:/Users/Mucahit BAYAR/Document/Deep Learning/Transfer_Learning/Sign Language/DataSet/training/3 \n",
      " VALIDATION C:/Users/Mucahit BAYAR/Document/Deep Learning/Transfer_Learning/Sign Language/DataSet/validation/3 \n",
      "  206\n",
      "training_lenght: 175\n",
      "validation_length: 20\n",
      "testing_length:  11\n",
      "175\n",
      "20\n",
      "11\n",
      "Splitting \n",
      "\n",
      "Split Data\n",
      "SOURCE:  C:/Users/Mucahit BAYAR/Document/Deep Learning/Transfer_Learning/Sign Language/DataSet/Dataset/4 \n",
      " TRAINING C:/Users/Mucahit BAYAR/Document/Deep Learning/Transfer_Learning/Sign Language/DataSet/training/4 \n",
      " VALIDATION C:/Users/Mucahit BAYAR/Document/Deep Learning/Transfer_Learning/Sign Language/DataSet/validation/4 \n",
      "  207\n",
      "training_lenght: 175\n",
      "validation_length: 20\n",
      "testing_length:  12\n",
      "175\n",
      "20\n",
      "12\n",
      "Splitting \n",
      "\n",
      "Split Data\n",
      "SOURCE:  C:/Users/Mucahit BAYAR/Document/Deep Learning/Transfer_Learning/Sign Language/DataSet/Dataset/5 \n",
      " TRAINING C:/Users/Mucahit BAYAR/Document/Deep Learning/Transfer_Learning/Sign Language/DataSet/training/5 \n",
      " VALIDATION C:/Users/Mucahit BAYAR/Document/Deep Learning/Transfer_Learning/Sign Language/DataSet/validation/5 \n",
      "  207\n",
      "training_lenght: 175\n",
      "validation_length: 20\n",
      "testing_length:  12\n",
      "175\n",
      "20\n",
      "12\n",
      "Splitting \n",
      "\n",
      "Split Data\n",
      "SOURCE:  C:/Users/Mucahit BAYAR/Document/Deep Learning/Transfer_Learning/Sign Language/DataSet/Dataset/6 \n",
      " TRAINING C:/Users/Mucahit BAYAR/Document/Deep Learning/Transfer_Learning/Sign Language/DataSet/training/6 \n",
      " VALIDATION C:/Users/Mucahit BAYAR/Document/Deep Learning/Transfer_Learning/Sign Language/DataSet/validation/6 \n",
      "  207\n",
      "training_lenght: 175\n",
      "validation_length: 20\n",
      "testing_length:  12\n",
      "175\n",
      "20\n",
      "12\n",
      "Splitting \n",
      "\n",
      "Split Data\n",
      "SOURCE:  C:/Users/Mucahit BAYAR/Document/Deep Learning/Transfer_Learning/Sign Language/DataSet/Dataset/7 \n",
      " TRAINING C:/Users/Mucahit BAYAR/Document/Deep Learning/Transfer_Learning/Sign Language/DataSet/training/7 \n",
      " VALIDATION C:/Users/Mucahit BAYAR/Document/Deep Learning/Transfer_Learning/Sign Language/DataSet/validation/7 \n",
      "  206\n",
      "training_lenght: 175\n",
      "validation_length: 20\n",
      "testing_length:  11\n",
      "175\n",
      "20\n",
      "11\n",
      "Splitting \n",
      "\n",
      "Split Data\n",
      "SOURCE:  C:/Users/Mucahit BAYAR/Document/Deep Learning/Transfer_Learning/Sign Language/DataSet/Dataset/8 \n",
      " TRAINING C:/Users/Mucahit BAYAR/Document/Deep Learning/Transfer_Learning/Sign Language/DataSet/training/8 \n",
      " VALIDATION C:/Users/Mucahit BAYAR/Document/Deep Learning/Transfer_Learning/Sign Language/DataSet/validation/8 \n",
      "  208\n",
      "training_lenght: 176\n",
      "validation_length: 20\n",
      "testing_length:  12\n",
      "176\n",
      "20\n",
      "12\n",
      "Splitting \n",
      "\n",
      "Split Data\n",
      "SOURCE:  C:/Users/Mucahit BAYAR/Document/Deep Learning/Transfer_Learning/Sign Language/DataSet/Dataset/9 \n",
      " TRAINING C:/Users/Mucahit BAYAR/Document/Deep Learning/Transfer_Learning/Sign Language/DataSet/training/9 \n",
      " VALIDATION C:/Users/Mucahit BAYAR/Document/Deep Learning/Transfer_Learning/Sign Language/DataSet/validation/9 \n",
      "  204\n",
      "training_lenght: 173\n",
      "validation_length: 20\n",
      "testing_length:  11\n",
      "173\n",
      "20\n",
      "11\n",
      "Splitting \n",
      "\n"
     ]
    }
   ],
   "source": [
    "split_size = .85 # Ratio Of Split Size\n",
    "for source, train_dir_path, val_dir_path, test_dir_path in zip(source_path,training_dir_path, validation_dir_path, testing_dir_path): # Rooting within folder\n",
    "    split_data(source, train_dir_path,val_dir_path, test_dir_path, split_size) # Starting function by Assigning Variables\n",
    "    print('Splitting \\n')"
   ]
  },
  {
   "cell_type": "markdown",
   "metadata": {},
   "source": [
    "# Datas Paths"
   ]
  },
  {
   "cell_type": "code",
   "execution_count": 5,
   "metadata": {},
   "outputs": [],
   "source": [
    "train_path = \"Dataset/training\"\n",
    "test_path = \"Dataset/testing\"\n",
    "validation_path = \"Dataset/validation\""
   ]
  },
  {
   "cell_type": "code",
   "execution_count": 6,
   "metadata": {},
   "outputs": [
    {
     "name": "stdout",
     "output_type": "stream",
     "text": [
      "Found 1748 images belonging to 10 classes.\n"
     ]
    }
   ],
   "source": [
    "train_batches = ImageDataGenerator().flow_from_directory(train_path,\n",
    "                                                        target_size=(224, 224),\n",
    "                                                        batch_size= 10)"
   ]
  },
  {
   "cell_type": "code",
   "execution_count": 8,
   "metadata": {},
   "outputs": [
    {
     "name": "stdout",
     "output_type": "stream",
     "text": [
      "Found 200 images belonging to 10 classes.\n"
     ]
    }
   ],
   "source": [
    "valid_batches = ImageDataGenerator().flow_from_directory(validation_path,\n",
    "                                                        target_size=(224,224),\n",
    "                                                        batch_size=30)"
   ]
  },
  {
   "cell_type": "code",
   "execution_count": 9,
   "metadata": {},
   "outputs": [
    {
     "name": "stdout",
     "output_type": "stream",
     "text": [
      "Found 114 images belonging to 10 classes.\n"
     ]
    }
   ],
   "source": [
    "test_batches = ImageDataGenerator().flow_from_directory(test_path,\n",
    "                                                       target_size=(224,224),\n",
    "                                                       shuffle=False)"
   ]
  },
  {
   "cell_type": "markdown",
   "metadata": {},
   "source": [
    "# Model"
   ]
  },
  {
   "cell_type": "code",
   "execution_count": 10,
   "metadata": {},
   "outputs": [],
   "source": [
    "base_model = vgg16.VGG16(weights = \"imagenet\", include_top = False, input_shape = (224, 224, 3), pooling = 'avg')"
   ]
  },
  {
   "cell_type": "code",
   "execution_count": 11,
   "metadata": {},
   "outputs": [],
   "source": [
    "for layer in base_model.layers[:-5]:\n",
    "    layer.trainable = False"
   ]
  },
  {
   "cell_type": "code",
   "execution_count": 12,
   "metadata": {},
   "outputs": [
    {
     "name": "stdout",
     "output_type": "stream",
     "text": [
      "Model: \"vgg16\"\n",
      "_________________________________________________________________\n",
      "Layer (type)                 Output Shape              Param #   \n",
      "=================================================================\n",
      "input_1 (InputLayer)         [(None, 224, 224, 3)]     0         \n",
      "_________________________________________________________________\n",
      "block1_conv1 (Conv2D)        (None, 224, 224, 64)      1792      \n",
      "_________________________________________________________________\n",
      "block1_conv2 (Conv2D)        (None, 224, 224, 64)      36928     \n",
      "_________________________________________________________________\n",
      "block1_pool (MaxPooling2D)   (None, 112, 112, 64)      0         \n",
      "_________________________________________________________________\n",
      "block2_conv1 (Conv2D)        (None, 112, 112, 128)     73856     \n",
      "_________________________________________________________________\n",
      "block2_conv2 (Conv2D)        (None, 112, 112, 128)     147584    \n",
      "_________________________________________________________________\n",
      "block2_pool (MaxPooling2D)   (None, 56, 56, 128)       0         \n",
      "_________________________________________________________________\n",
      "block3_conv1 (Conv2D)        (None, 56, 56, 256)       295168    \n",
      "_________________________________________________________________\n",
      "block3_conv2 (Conv2D)        (None, 56, 56, 256)       590080    \n",
      "_________________________________________________________________\n",
      "block3_conv3 (Conv2D)        (None, 56, 56, 256)       590080    \n",
      "_________________________________________________________________\n",
      "block3_pool (MaxPooling2D)   (None, 28, 28, 256)       0         \n",
      "_________________________________________________________________\n",
      "block4_conv1 (Conv2D)        (None, 28, 28, 512)       1180160   \n",
      "_________________________________________________________________\n",
      "block4_conv2 (Conv2D)        (None, 28, 28, 512)       2359808   \n",
      "_________________________________________________________________\n",
      "block4_conv3 (Conv2D)        (None, 28, 28, 512)       2359808   \n",
      "_________________________________________________________________\n",
      "block4_pool (MaxPooling2D)   (None, 14, 14, 512)       0         \n",
      "_________________________________________________________________\n",
      "block5_conv1 (Conv2D)        (None, 14, 14, 512)       2359808   \n",
      "_________________________________________________________________\n",
      "block5_conv2 (Conv2D)        (None, 14, 14, 512)       2359808   \n",
      "_________________________________________________________________\n",
      "block5_conv3 (Conv2D)        (None, 14, 14, 512)       2359808   \n",
      "_________________________________________________________________\n",
      "block5_pool (MaxPooling2D)   (None, 7, 7, 512)         0         \n",
      "_________________________________________________________________\n",
      "global_average_pooling2d (Gl (None, 512)               0         \n",
      "=================================================================\n",
      "Total params: 14,714,688\n",
      "Trainable params: 7,079,424\n",
      "Non-trainable params: 7,635,264\n",
      "_________________________________________________________________\n"
     ]
    }
   ],
   "source": [
    "base_model.summary()"
   ]
  },
  {
   "cell_type": "markdown",
   "metadata": {},
   "source": [
    "# Build New Model"
   ]
  },
  {
   "cell_type": "code",
   "execution_count": 14,
   "metadata": {},
   "outputs": [
    {
     "name": "stdout",
     "output_type": "stream",
     "text": [
      "Model: \"functional_1\"\n",
      "_________________________________________________________________\n",
      "Layer (type)                 Output Shape              Param #   \n",
      "=================================================================\n",
      "input_1 (InputLayer)         [(None, 224, 224, 3)]     0         \n",
      "_________________________________________________________________\n",
      "block1_conv1 (Conv2D)        (None, 224, 224, 64)      1792      \n",
      "_________________________________________________________________\n",
      "block1_conv2 (Conv2D)        (None, 224, 224, 64)      36928     \n",
      "_________________________________________________________________\n",
      "block1_pool (MaxPooling2D)   (None, 112, 112, 64)      0         \n",
      "_________________________________________________________________\n",
      "block2_conv1 (Conv2D)        (None, 112, 112, 128)     73856     \n",
      "_________________________________________________________________\n",
      "block2_conv2 (Conv2D)        (None, 112, 112, 128)     147584    \n",
      "_________________________________________________________________\n",
      "block2_pool (MaxPooling2D)   (None, 56, 56, 128)       0         \n",
      "_________________________________________________________________\n",
      "block3_conv1 (Conv2D)        (None, 56, 56, 256)       295168    \n",
      "_________________________________________________________________\n",
      "block3_conv2 (Conv2D)        (None, 56, 56, 256)       590080    \n",
      "_________________________________________________________________\n",
      "block3_conv3 (Conv2D)        (None, 56, 56, 256)       590080    \n",
      "_________________________________________________________________\n",
      "block3_pool (MaxPooling2D)   (None, 28, 28, 256)       0         \n",
      "_________________________________________________________________\n",
      "block4_conv1 (Conv2D)        (None, 28, 28, 512)       1180160   \n",
      "_________________________________________________________________\n",
      "block4_conv2 (Conv2D)        (None, 28, 28, 512)       2359808   \n",
      "_________________________________________________________________\n",
      "block4_conv3 (Conv2D)        (None, 28, 28, 512)       2359808   \n",
      "_________________________________________________________________\n",
      "block4_pool (MaxPooling2D)   (None, 14, 14, 512)       0         \n",
      "_________________________________________________________________\n",
      "block5_conv1 (Conv2D)        (None, 14, 14, 512)       2359808   \n",
      "_________________________________________________________________\n",
      "block5_conv2 (Conv2D)        (None, 14, 14, 512)       2359808   \n",
      "_________________________________________________________________\n",
      "block5_conv3 (Conv2D)        (None, 14, 14, 512)       2359808   \n",
      "_________________________________________________________________\n",
      "block5_pool (MaxPooling2D)   (None, 7, 7, 512)         0         \n",
      "_________________________________________________________________\n",
      "global_average_pooling2d (Gl (None, 512)               0         \n",
      "_________________________________________________________________\n",
      "softmax (Dense)              (None, 10)                5130      \n",
      "=================================================================\n",
      "Total params: 14,719,818\n",
      "Trainable params: 7,084,554\n",
      "Non-trainable params: 7,635,264\n",
      "_________________________________________________________________\n"
     ]
    }
   ],
   "source": [
    "last_output = base_model.output\n",
    "\n",
    "x = Dense(10, activation='softmax', name='softmax')(last_output)\n",
    "new_model = Model(inputs=base_model.input, outputs=x)\n",
    "new_model.summary()"
   ]
  },
  {
   "cell_type": "code",
   "execution_count": 18,
   "metadata": {},
   "outputs": [],
   "source": [
    "new_model.compile(Adam(lr=0.0001), loss= 'categorical_crossentropy', metrics=['accuracy'])"
   ]
  },
  {
   "cell_type": "code",
   "execution_count": 19,
   "metadata": {},
   "outputs": [],
   "source": [
    "from keras.callbacks import ModelCheckpoint\n",
    "\n",
    "checkpoint = ModelCheckpoint(filepath='signlanguage.model.hdf5', save_best_only = True)"
   ]
  },
  {
   "cell_type": "code",
   "execution_count": 21,
   "metadata": {},
   "outputs": [
    {
     "name": "stdout",
     "output_type": "stream",
     "text": [
      "Epoch 1/20\n",
      "18/18 [==============================] - 29s 2s/step - loss: 3.9373 - accuracy: 0.1833 - val_loss: 2.0954 - val_accuracy: 0.2667\n",
      "Epoch 2/20\n",
      "18/18 [==============================] - 28s 2s/step - loss: 1.8190 - accuracy: 0.3389 - val_loss: 1.7065 - val_accuracy: 0.3667\n",
      "Epoch 3/20\n",
      "18/18 [==============================] - 28s 2s/step - loss: 1.4823 - accuracy: 0.4722 - val_loss: 1.4753 - val_accuracy: 0.5333\n",
      "Epoch 4/20\n",
      "18/18 [==============================] - 29s 2s/step - loss: 1.0834 - accuracy: 0.6444 - val_loss: 0.8985 - val_accuracy: 0.7444\n",
      "Epoch 5/20\n",
      "18/18 [==============================] - 30s 2s/step - loss: 0.8038 - accuracy: 0.7111 - val_loss: 0.8698 - val_accuracy: 0.6667\n",
      "Epoch 6/20\n",
      "18/18 [==============================] - 29s 2s/step - loss: 0.6561 - accuracy: 0.7667 - val_loss: 0.4732 - val_accuracy: 0.8667\n",
      "Epoch 7/20\n",
      "18/18 [==============================] - 28s 2s/step - loss: 0.4110 - accuracy: 0.8722 - val_loss: 0.3868 - val_accuracy: 0.8333\n",
      "Epoch 8/20\n",
      "18/18 [==============================] - 28s 2s/step - loss: 0.3442 - accuracy: 0.9222 - val_loss: 0.3786 - val_accuracy: 0.8778\n",
      "Epoch 9/20\n",
      "18/18 [==============================] - 28s 2s/step - loss: 0.1570 - accuracy: 0.9556 - val_loss: 0.2821 - val_accuracy: 0.8889\n",
      "Epoch 10/20\n",
      "18/18 [==============================] - 28s 2s/step - loss: 0.1466 - accuracy: 0.9722 - val_loss: 0.2045 - val_accuracy: 0.9111\n",
      "Epoch 11/20\n",
      "18/18 [==============================] - 29s 2s/step - loss: 0.1704 - accuracy: 0.9556 - val_loss: 0.3454 - val_accuracy: 0.8889\n",
      "Epoch 12/20\n",
      "18/18 [==============================] - 28s 2s/step - loss: 0.2003 - accuracy: 0.9111 - val_loss: 0.2212 - val_accuracy: 0.9222\n",
      "Epoch 13/20\n",
      "18/18 [==============================] - 29s 2s/step - loss: 0.0988 - accuracy: 0.9778 - val_loss: 0.1518 - val_accuracy: 0.9444\n",
      "Epoch 14/20\n",
      "18/18 [==============================] - 28s 2s/step - loss: 0.1244 - accuracy: 0.9833 - val_loss: 0.0710 - val_accuracy: 0.9889\n",
      "Epoch 15/20\n",
      "18/18 [==============================] - 29s 2s/step - loss: 0.0658 - accuracy: 0.9889 - val_loss: 0.1962 - val_accuracy: 0.9333\n",
      "Epoch 16/20\n",
      "18/18 [==============================] - 29s 2s/step - loss: 0.0696 - accuracy: 0.9667 - val_loss: 0.1251 - val_accuracy: 0.9667\n",
      "Epoch 17/20\n",
      "18/18 [==============================] - 28s 2s/step - loss: 0.0270 - accuracy: 0.9944 - val_loss: 0.4022 - val_accuracy: 0.9111\n",
      "Epoch 18/20\n",
      "18/18 [==============================] - 28s 2s/step - loss: 0.1329 - accuracy: 0.9722 - val_loss: 0.2846 - val_accuracy: 0.9111\n",
      "Epoch 19/20\n",
      "18/18 [==============================] - 28s 2s/step - loss: 0.0952 - accuracy: 0.9667 - val_loss: 0.4474 - val_accuracy: 0.8778\n",
      "Epoch 20/20\n",
      "18/18 [==============================] - 28s 2s/step - loss: 0.0964 - accuracy: 0.9722 - val_loss: 0.1817 - val_accuracy: 0.9556\n"
     ]
    }
   ],
   "source": [
    "history = new_model.fit_generator(train_batches, \n",
    "                                  steps_per_epoch=18, \n",
    "                                  validation_data= valid_batches, \n",
    "                                  validation_steps=3, \n",
    "                                  epochs=20, \n",
    "                                  verbose=1, \n",
    "                                  callbacks=[checkpoint])"
   ]
  },
  {
   "cell_type": "markdown",
   "metadata": {},
   "source": [
    "# Evaluate DataSet"
   ]
  },
  {
   "cell_type": "code",
   "execution_count": 26,
   "metadata": {},
   "outputs": [],
   "source": [
    "from sklearn.datasets import load_files\n",
    "from keras.utils import np_utils\n",
    "import numpy as np\n",
    "\n",
    "# This function's task is divide test data set into files and targets.\n",
    "def load_dataset(path):\n",
    "    data = load_files(path)\n",
    "    paths = np.array(data['filenames'])\n",
    "    targets= np_utils.to_categorical(np.array(data['target']))\n",
    "    return paths, targets\n",
    "\n",
    "test_files, test_targets = load_dataset(test_path)"
   ]
  },
  {
   "cell_type": "code",
   "execution_count": 27,
   "metadata": {},
   "outputs": [],
   "source": [
    "from keras.preprocessing import image\n",
    "from keras.applications.vgg16 import preprocess_input\n",
    "from tqdm import tqdm"
   ]
  },
  {
   "cell_type": "code",
   "execution_count": 28,
   "metadata": {},
   "outputs": [],
   "source": [
    "# This function's task is convert from image to array.\n",
    "def path_to_tensor(img_path):\n",
    "    img = image.load_img(img_path, target_size=(224, 224))\n",
    "    x = image.img_to_array(img)\n",
    "    return np.expand_dims(x, axis=0) # Expanding Dimension"
   ]
  },
  {
   "cell_type": "code",
   "execution_count": 29,
   "metadata": {},
   "outputs": [],
   "source": [
    "# This function's task is make list image as array.\n",
    "def paths_to_tensor(img_paths):\n",
    "    list_of_tensors = [path_to_tensor(img_path) for img_path in tqdm(img_paths)] # tqdm is show loading that how is Processing forward as visual\n",
    "    return np.vstack(list_of_tensors) # concatenation Array"
   ]
  },
  {
   "cell_type": "code",
   "execution_count": 30,
   "metadata": {},
   "outputs": [
    {
     "name": "stderr",
     "output_type": "stream",
     "text": [
      "100%|██████████| 114/114 [00:00<00:00, 431.98it/s]\n"
     ]
    }
   ],
   "source": [
    "test_tensors = preprocess_input(paths_to_tensor(test_files))"
   ]
  },
  {
   "cell_type": "code",
   "execution_count": 31,
   "metadata": {},
   "outputs": [
    {
     "name": "stdout",
     "output_type": "stream",
     "text": [
      "4/4 [==============================] - 7s 2s/step - loss: 0.1365 - accuracy: 0.9737\n",
      "\n",
      "Testing loss: 0.1365\n",
      "Testing accuracy: 0.9737\n"
     ]
    }
   ],
   "source": [
    "print('\\nTesting loss: {:.4f}\\nTesting accuracy: {:.4f}'.format(*new_model.evaluate(test_tensors, test_targets)))"
   ]
  },
  {
   "cell_type": "markdown",
   "metadata": {},
   "source": [
    "# How Model Performed"
   ]
  },
  {
   "cell_type": "code",
   "execution_count": 32,
   "metadata": {},
   "outputs": [],
   "source": [
    "from sklearn.metrics import confusion_matrix"
   ]
  },
  {
   "cell_type": "code",
   "execution_count": 35,
   "metadata": {},
   "outputs": [
    {
     "data": {
      "image/png": "[encoded data removed]",
      "text/plain": [
       "<Figure size 432x288 with 2 Axes>"
      ]
     },
     "metadata": {
      "needs_background": "light"
     },
     "output_type": "display_data"
    }
   ],
   "source": [
    "cm_labels = ['0', '1', '2', '3', '4', '5', '6', '7', '8', '9']\n",
    "\n",
    "cm = confusion_matrix(np.argmax(test_targets, axis=1),\n",
    "                     np.argmax(new_model.predict(test_tensors), axis=1))\n",
    "\n",
    "plt.imshow(cm, cmap= plt.cm.Blues)\n",
    "plt.colorbar()\n",
    "indexes = np.arange(len(cm_labels))\n",
    "\n",
    "for i in indexes:\n",
    "    for j in indexes:\n",
    "        plt.text(j, i, cm[j,i])\n",
    "plt.xticks(indexes, cm_labels, rotation= 90)\n",
    "plt.xlabel('Predicted Label')\n",
    "plt.yticks(indexes, cm_labels)\n",
    "plt.ylabel('True Label')\n",
    "plt.title('Confusion Matrix')\n",
    "plt.show()"
   ]
  },
  {
   "cell_type": "code",
   "execution_count": null,
   "metadata": {},
   "outputs": [],
   "source": []
  }
 ],
 "metadata": {
  "kernelspec": {
   "display_name": "Python 3",
   "language": "python",
   "name": "python3"
  },
  "language_info": {
   "codemirror_mode": {
    "name": "ipython",
    "version": 3
   },
   "file_extension": ".py",
   "mimetype": "text/x-python",
   "name": "python",
   "nbconvert_exporter": "python",
   "pygments_lexer": "ipython3",
   "version": "3.8.3"
  }
 },
 "nbformat": 4,
 "nbformat_minor": 4
}
